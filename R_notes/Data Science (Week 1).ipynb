{
 "cells": [
  {
   "cell_type": "markdown",
   "metadata": {},
   "source": [
    "**Date : 27/11/2019**\n",
    "# Course : **Data Science By Jhon Hopkins**\n",
    "## Week 1:"
   ]
  },
  {
   "cell_type": "markdown",
   "metadata": {},
   "source": [
    "## Data science :\n",
    "> is using data to answer questions\n",
    "\n",
    ">Statistics, computer science, mathematics\n",
    "\n",
    ">Data cleaning and formatting\n",
    "\n",
    ">Data visualization"
   ]
  },
  {
   "cell_type": "markdown",
   "metadata": {},
   "source": [
    "## Big Data \n",
    "\n",
    "Big Data Involves:\n",
    "\n",
    ">Volume - implies Large amount of Data Set - youtube - 300 hours of videos are uploaded every data at youtube every minute\n",
    "\n",
    ">variety - Different Type of Datasets are Available Example: youtube - video,audio,comments likes\n",
    "\n",
    ">velocity - Data have been collected and collated Faster Than ever - GPS of Cars and Trucks\n",
    "\n"
   ]
  },
  {
   "cell_type": "markdown",
   "metadata": {},
   "source": [
    "![](VolumeVelocityVariety.PNG)"
   ]
  },
  {
   "attachments": {},
   "cell_type": "markdown",
   "metadata": {},
   "source": [
    "# data scientist Skills\n",
    "\n",
    "![Drew Connway venn Diagram](DataScientistSkills.jpg)"
   ]
  },
  {
   "cell_type": "markdown",
   "metadata": {},
   "source": [
    "### Data\n",
    "\n",
    "> A set of Values of qualitative and quantitative Variables\n",
    "\n",
    "> A Good DataScientist Asks Questions First and the Looks at the Data\n",
    "\n",
    "\n",
    "#### examples of Data:\n",
    "\n",
    "1. Sequencing data\n",
    "\n",
    "2. Population census data\n",
    "\n",
    "3. Geographic information system (GIS) data (mapping)\n",
    "\n",
    "4. Image analysis and image extrapolation\n",
    "\n",
    "5. Language and translations\n",
    "\n",
    "6. Website traffic\n",
    "\n",
    "7. Personal/Ad data (eg: Facebook, Netflix predictions, etc)\n",
    "\n",
    "\n",
    "Questions Have to be asked Before to Begin wih Data, without **questions Data are Useless**\n"
   ]
  },
  {
   "cell_type": "markdown",
   "metadata": {},
   "source": [
    "### Data Science Process:\n",
    "\n",
    "Reference: https://hilaryparker.com/2013/01/30/hilary-the-most-poisoned-baby-name-in-us-history/\n",
    "\n",
    "1. Anayse the Questions.\n",
    "\n",
    "2. Figuring Out to what to do answer your Question.\n",
    "\n",
    "3. Premilanary Analysis\n",
    "\n",
    "4. Effectivly Communicating Results.\n",
    "\n",
    "5. Explore, Visualize and analyse the Data\n"
   ]
  },
  {
   "cell_type": "markdown",
   "metadata": {},
   "source": []
  }
 ],
 "metadata": {
  "kernelspec": {
   "display_name": "Python 3",
   "language": "python",
   "name": "python3"
  },
  "language_info": {
   "codemirror_mode": {
    "name": "ipython",
    "version": 3
   },
   "file_extension": ".py",
   "mimetype": "text/x-python",
   "name": "python",
   "nbconvert_exporter": "python",
   "pygments_lexer": "ipython3",
   "version": "3.7.4"
  }
 },
 "nbformat": 4,
 "nbformat_minor": 2
}
