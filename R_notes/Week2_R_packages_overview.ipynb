{
 "cells": [
  {
   "cell_type": "markdown",
   "metadata": {},
   "source": [
    "# R_Packages"
   ]
  },
  {
   "cell_type": "markdown",
   "metadata": {},
   "source": [
    "- Base R is limiting for Some Data Analysis.  Base R is mostly Covers the basic Functionality of Statistics and plotting of data .\n",
    "\n",
    "- A package is a collection of functions, data, and code conveniently provided in a nice, complete format for you.\n",
    "\n",
    "- A library is the place where the package is located on your computer\n",
    "\n",
    "- There are three big repositories:\n",
    "    1. CRAN (Comprehensive R Archive Network): R’s main repository (>12,100 packages available!)\n",
    "    2. BioConductor: A repository mainly for bioinformatic-focused packages\n",
    "    3. GitHub: A very popular, open source repository (not R specific!)\n",
    "    \n",
    "- https://www.rdocumentation.org/ : The Documentation of R Pakages and Task View which divided the 35 major themes for Pakages."
   ]
  },
  {
   "cell_type": "markdown",
   "metadata": {},
   "source": [
    "## Installation of Package for CRAN\n",
    "\n",
    "- install.packages() --- is used for install packages into the Library.\n",
    "\n",
    "- Example: install.packages(\"ggplot2\")\n",
    "\n",
    "- If you want to install multiple packages at once, you can do so by using a character vector, like: install.packages(c(\"ggplot2\", \"devtools\", \"lme4\")).\n",
    "\n",
    "- In Rstudio Install Pakages with Tools option.\n",
    "\n",
    "\n"
   ]
  },
  {
   "cell_type": "code",
   "execution_count": null,
   "metadata": {},
   "outputs": [],
   "source": [
    "install.packages(c(\"ggplot2\",\"devtools\"))"
   ]
  },
  {
   "cell_type": "markdown",
   "metadata": {},
   "source": [
    "## Installation of Packages from BioConductor (Genomic)\n",
    "\n",
    "- First Define Source by \n",
    "\n",
    "*if (!requireNamespace(\"BiocManager\", quietly = TRUE))\n",
    "    install.packages(\"BiocManager\")\n",
    "BiocManager::install()**\n",
    "\n",
    "- This makes the main install function of BioConductor, biocLite(), available to you. Following this, you call the package you want to install in quotes, between the parentheses of the biocLite command, like so: biocLite(\"GenomicFeatures\").\n"
   ]
  },
  {
   "cell_type": "code",
   "execution_count": null,
   "metadata": {},
   "outputs": [],
   "source": [
    "# Bioconductor install:\n",
    "if (!requireNamespace(\"BiocManager\", quietly = TRUE))\n",
    "    install.packages(\"BiocManager\")\n",
    "BiocManager::install()"
   ]
  },
  {
   "cell_type": "code",
   "execution_count": null,
   "metadata": {},
   "outputs": [],
   "source": [
    "# installing a Packages:\n",
    "BiocManager::install(c(\"GenomicFeatures\"))"
   ]
  },
  {
   "cell_type": "markdown",
   "metadata": {},
   "source": [
    "## installing Packages from GItHub\n",
    "\n",
    "- The general workflow is:\n",
    "    - install.packages(\"devtools\") \n",
    "    - library(devtools)\n",
    "    - install_github(\"author/package\") replacing “author” and “package” with their GitHub username and the name of the package.\n",
    "    - install_github(\"wrengels/HWxtest\", subdir=\"pkg\") : installing packages from Sub Directory."
   ]
  },
  {
   "cell_type": "code",
   "execution_count": null,
   "metadata": {},
   "outputs": [],
   "source": [
    "#Load packages of devtools\n",
    "library(devtools)\n",
    "#install_github(\"kbroman/broman\")"
   ]
  },
  {
   "cell_type": "markdown",
   "metadata": {},
   "source": [
    "## Load Packges\n",
    "- Installing packages is doesn't mean you can use the Package for your programming.\n",
    "- library(pkgname) - synatax for load the Packages.\n",
    "- Some Dependencies of packages have to be installed before the Packages.\n",
    "- Load packages through Packages from tab from R studio.\n",
    "\n",
    "\n",
    "### updating,removing,unloading Packages\n",
    "\n",
    "- installed.packages() or library() will give you all the installed Packages from Computer.\n",
    "- old.Packages() will give you information about the Version.\n",
    "- for particular Package update - install.packages(\"pkgname\")\n",
    "- "
   ]
  },
  {
   "cell_type": "code",
   "execution_count": null,
   "metadata": {},
   "outputs": [],
   "source": [
    "#  load ggplot2\n",
    "library(ggplot2)\n",
    "\n",
    "# see all the installed Packages\n",
    "library()\n",
    "\n",
    "# information about the old packages.\n",
    "\n",
    "old.packages()\n",
    "\n",
    "\n",
    "#update ggplot2 packages and remove the Packages before installing a new Packages\n",
    "install.packages(\"ggplot2\")\n",
    "\n",
    "# upadate all the installed Packages\n",
    "update.packages()\n",
    "\n"
   ]
  },
  {
   "cell_type": "markdown",
   "metadata": {},
   "source": [
    "##  Detach a Packages\n",
    "\n",
    "- The Package is may be not work with other Package while in same programming so we can detach the Package for time being.\n",
    "- synatax - **detach(\"package:pkgname\", unload=TRUE)**"
   ]
  },
  {
   "cell_type": "code",
   "execution_count": null,
   "metadata": {},
   "outputs": [],
   "source": [
    "detach(\"package:ggplot2\", unload=TRUE)"
   ]
  },
  {
   "cell_type": "markdown",
   "metadata": {},
   "source": [
    "## Remove Packages\n",
    "\n",
    "- Synatax - **remove.packages(\"pkgName\")**"
   ]
  },
  {
   "cell_type": "code",
   "execution_count": null,
   "metadata": {},
   "outputs": [],
   "source": [
    "remove.packages(\"ggplot2\")"
   ]
  },
  {
   "cell_type": "markdown",
   "metadata": {},
   "source": [
    "#### To Know which verision of R \n",
    "- syntax: **version()**\n",
    "- to Know the session details of packages loaded and which R is used in the Session of a Project\n",
    "- syntax : **sessionInfo()**"
   ]
  },
  {
   "cell_type": "code",
   "execution_count": null,
   "metadata": {},
   "outputs": [],
   "source": [
    "version()\n",
    "sessioninfo()"
   ]
  },
  {
   "cell_type": "markdown",
   "metadata": {},
   "source": [
    "## Getting Help\n",
    "\n",
    "- **Help()** is a great function to about the Package.\n",
    "-**browsevignettes()** is a additonal help function to give a word by word example how to ue the Packages.\n",
    "\n"
   ]
  },
  {
   "cell_type": "code",
   "execution_count": null,
   "metadata": {},
   "outputs": [],
   "source": [
    "help(package=\"ggplot2\")\n",
    "browsevignettes(\"ggplot2\")"
   ]
  },
  {
   "cell_type": "code",
   "execution_count": 1,
   "metadata": {},
   "outputs": [],
   "source": [
    "help(package=\"devtools\")"
   ]
  },
  {
   "cell_type": "code",
   "execution_count": 2,
   "metadata": {
    "scrolled": true
   },
   "outputs": [
    {
     "name": "stdout",
     "output_type": "stream",
     "text": [
      "package 'KernSmooth' successfully unpacked and MD5 sums checked\n",
      "\n",
      "The downloaded binary packages are in\n",
      "\tC:\\Users\\Praveen Jalaja\\AppData\\Local\\Temp\\RtmpS2GZX8\\downloaded_packages\n"
     ]
    }
   ],
   "source": [
    "install.packages(\"KernSmooth\")"
   ]
  },
  {
   "cell_type": "code",
   "execution_count": 5,
   "metadata": {},
   "outputs": [
    {
     "name": "stderr",
     "output_type": "stream",
     "text": [
      "KernSmooth 2.23 loaded\n",
      "Copyright M. P. Wand 1997-2009\n"
     ]
    }
   ],
   "source": [
    "help(package=\"KernSmooth\")\n",
    "library(KernSmooth)"
   ]
  }
 ],
 "metadata": {
  "kernelspec": {
   "display_name": "R",
   "language": "R",
   "name": "ir"
  },
  "language_info": {
   "codemirror_mode": "r",
   "file_extension": ".r",
   "mimetype": "text/x-r-source",
   "name": "R",
   "pygments_lexer": "r",
   "version": "3.6.1"
  }
 },
 "nbformat": 4,
 "nbformat_minor": 2
}
